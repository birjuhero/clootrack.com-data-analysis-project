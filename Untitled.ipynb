{
 "cells": [
  {
   "cell_type": "code",
   "execution_count": 178,
   "metadata": {},
   "outputs": [],
   "source": [
    "import numpy as np\n",
    "import pandas as pd\n",
    "from matplotlib import pyplot as plt"
   ]
  },
  {
   "cell_type": "code",
   "execution_count": 179,
   "metadata": {},
   "outputs": [],
   "source": [
    "df=pd.read_csv('Data Analyst - Test Data - US.csv')"
   ]
  },
  {
   "cell_type": "markdown",
   "metadata": {},
   "source": [
    "#### infrence we get from the data"
   ]
  },
  {
   "cell_type": "markdown",
   "metadata": {},
   "source": [
    "    1-test data contains (row, column)= (6448, 3). the data contains 3 columns name-['Review', 'date', 'Location'].Review column contains null value =55 and not null =6393. and Location column contains null value= 4737 and non null value= 1711.\n",
    "    2-maximum review is on 'United States of America' total= 116 and minimun review is 1. if necessary i can provide the list.\n",
    "    there is 1078 locations are available and these are unique. i have detected some error like some where it is written (NY NYK New York ). i can correct these is needed.\n",
    "    3-from the above inference we get to know all the reviews of year 2019 and 2018.\n",
    "    2019 total review =3856 and in 2018 total review =2592 and total review data is =6448"
   ]
  },
  {
   "cell_type": "code",
   "execution_count": 180,
   "metadata": {},
   "outputs": [
    {
     "data": {
      "text/html": [
       "<div>\n",
       "<style scoped>\n",
       "    .dataframe tbody tr th:only-of-type {\n",
       "        vertical-align: middle;\n",
       "    }\n",
       "\n",
       "    .dataframe tbody tr th {\n",
       "        vertical-align: top;\n",
       "    }\n",
       "\n",
       "    .dataframe thead th {\n",
       "        text-align: right;\n",
       "    }\n",
       "</style>\n",
       "<table border=\"1\" class=\"dataframe\">\n",
       "  <thead>\n",
       "    <tr style=\"text-align: right;\">\n",
       "      <th></th>\n",
       "      <th>Review</th>\n",
       "      <th>date</th>\n",
       "      <th>Location</th>\n",
       "    </tr>\n",
       "  </thead>\n",
       "  <tbody>\n",
       "    <tr>\n",
       "      <th>0</th>\n",
       "      <td>I was very impressed with the resort.\\n Great ...</td>\n",
       "      <td>2019/08/20</td>\n",
       "      <td>Sebastian</td>\n",
       "    </tr>\n",
       "    <tr>\n",
       "      <th>1</th>\n",
       "      <td>The rooms were nice the outside needs work als...</td>\n",
       "      <td>2019/08/20</td>\n",
       "      <td>Los Angeles</td>\n",
       "    </tr>\n",
       "    <tr>\n",
       "      <th>2</th>\n",
       "      <td>Great location! I have stayed at this hotel on...</td>\n",
       "      <td>2019/08/20</td>\n",
       "      <td>Georgia</td>\n",
       "    </tr>\n",
       "    <tr>\n",
       "      <th>3</th>\n",
       "      <td>The hotel was adequate for my stay. The strips...</td>\n",
       "      <td>2019/08/20</td>\n",
       "      <td>NaN</td>\n",
       "    </tr>\n",
       "    <tr>\n",
       "      <th>4</th>\n",
       "      <td>Great location, room was large and spacious. P...</td>\n",
       "      <td>2019/08/19</td>\n",
       "      <td>Palm Harbor</td>\n",
       "    </tr>\n",
       "  </tbody>\n",
       "</table>\n",
       "</div>"
      ],
      "text/plain": [
       "                                              Review        date     Location\n",
       "0  I was very impressed with the resort.\\n Great ...  2019/08/20    Sebastian\n",
       "1  The rooms were nice the outside needs work als...  2019/08/20  Los Angeles\n",
       "2  Great location! I have stayed at this hotel on...  2019/08/20      Georgia\n",
       "3  The hotel was adequate for my stay. The strips...  2019/08/20          NaN\n",
       "4  Great location, room was large and spacious. P...  2019/08/19  Palm Harbor"
      ]
     },
     "execution_count": 180,
     "metadata": {},
     "output_type": "execute_result"
    }
   ],
   "source": [
    "df.head()"
   ]
  },
  {
   "cell_type": "code",
   "execution_count": 223,
   "metadata": {},
   "outputs": [
    {
     "data": {
      "text/html": [
       "<div>\n",
       "<style scoped>\n",
       "    .dataframe tbody tr th:only-of-type {\n",
       "        vertical-align: middle;\n",
       "    }\n",
       "\n",
       "    .dataframe tbody tr th {\n",
       "        vertical-align: top;\n",
       "    }\n",
       "\n",
       "    .dataframe thead th {\n",
       "        text-align: right;\n",
       "    }\n",
       "</style>\n",
       "<table border=\"1\" class=\"dataframe\">\n",
       "  <thead>\n",
       "    <tr style=\"text-align: right;\">\n",
       "      <th></th>\n",
       "      <th>Review</th>\n",
       "      <th>date</th>\n",
       "      <th>Location</th>\n",
       "    </tr>\n",
       "  </thead>\n",
       "  <tbody>\n",
       "    <tr>\n",
       "      <th>3</th>\n",
       "      <td>The hotel was adequate for my stay. The strips...</td>\n",
       "      <td>2019/08/20</td>\n",
       "      <td>NaN</td>\n",
       "    </tr>\n",
       "    <tr>\n",
       "      <th>5</th>\n",
       "      <td>All the options for fun were great! Do wish th...</td>\n",
       "      <td>2019/08/19</td>\n",
       "      <td>NaN</td>\n",
       "    </tr>\n",
       "    <tr>\n",
       "      <th>6</th>\n",
       "      <td>Old. Musty. Motel. \\n Bath need an update asap...</td>\n",
       "      <td>2019/08/19</td>\n",
       "      <td>NaN</td>\n",
       "    </tr>\n",
       "    <tr>\n",
       "      <th>7</th>\n",
       "      <td>Loved the layout of the hotel and the relaxing...</td>\n",
       "      <td>2019/08/19</td>\n",
       "      <td>NaN</td>\n",
       "    </tr>\n",
       "    <tr>\n",
       "      <th>8</th>\n",
       "      <td>My wife and I loved everything about it. It’s ...</td>\n",
       "      <td>2019/08/19</td>\n",
       "      <td>NaN</td>\n",
       "    </tr>\n",
       "  </tbody>\n",
       "</table>\n",
       "</div>"
      ],
      "text/plain": [
       "                                              Review        date Location\n",
       "3  The hotel was adequate for my stay. The strips...  2019/08/20      NaN\n",
       "5  All the options for fun were great! Do wish th...  2019/08/19      NaN\n",
       "6  Old. Musty. Motel. \\n Bath need an update asap...  2019/08/19      NaN\n",
       "7  Loved the layout of the hotel and the relaxing...  2019/08/19      NaN\n",
       "8  My wife and I loved everything about it. It’s ...  2019/08/19      NaN"
      ]
     },
     "execution_count": 223,
     "metadata": {},
     "output_type": "execute_result"
    }
   ],
   "source": [
    "df2.head()\n"
   ]
  },
  {
   "cell_type": "code",
   "execution_count": 181,
   "metadata": {},
   "outputs": [
    {
     "name": "stdout",
     "output_type": "stream",
     "text": [
      "(6448, 3)\n",
      "Index(['Review', 'date', 'Location'], dtype='object')\n",
      "False    6393\n",
      "True       55\n",
      "Name: Review, dtype: int64\n",
      "True     4737\n",
      "False    1711\n",
      "Name: Location, dtype: int64\n"
     ]
    }
   ],
   "source": [
    "print(df.shape)\n",
    "print(df.columns)\n",
    "print(df['Review'].isnull().value_counts())\n",
    "print(df['Location'].isnull().value_counts())"
   ]
  },
  {
   "cell_type": "code",
   "execution_count": 182,
   "metadata": {},
   "outputs": [
    {
     "name": "stdout",
     "output_type": "stream",
     "text": [
      "(6393, 3)\n"
     ]
    },
    {
     "data": {
      "text/html": [
       "<div>\n",
       "<style scoped>\n",
       "    .dataframe tbody tr th:only-of-type {\n",
       "        vertical-align: middle;\n",
       "    }\n",
       "\n",
       "    .dataframe tbody tr th {\n",
       "        vertical-align: top;\n",
       "    }\n",
       "\n",
       "    .dataframe thead th {\n",
       "        text-align: right;\n",
       "    }\n",
       "</style>\n",
       "<table border=\"1\" class=\"dataframe\">\n",
       "  <thead>\n",
       "    <tr style=\"text-align: right;\">\n",
       "      <th></th>\n",
       "      <th>Review</th>\n",
       "      <th>date</th>\n",
       "      <th>Location</th>\n",
       "    </tr>\n",
       "  </thead>\n",
       "  <tbody>\n",
       "    <tr>\n",
       "      <th>0</th>\n",
       "      <td>I was very impressed with the resort.\\n Great ...</td>\n",
       "      <td>2019/08/20</td>\n",
       "      <td>Sebastian</td>\n",
       "    </tr>\n",
       "    <tr>\n",
       "      <th>1</th>\n",
       "      <td>The rooms were nice the outside needs work als...</td>\n",
       "      <td>2019/08/20</td>\n",
       "      <td>Los Angeles</td>\n",
       "    </tr>\n",
       "    <tr>\n",
       "      <th>2</th>\n",
       "      <td>Great location! I have stayed at this hotel on...</td>\n",
       "      <td>2019/08/20</td>\n",
       "      <td>Georgia</td>\n",
       "    </tr>\n",
       "    <tr>\n",
       "      <th>3</th>\n",
       "      <td>The hotel was adequate for my stay. The strips...</td>\n",
       "      <td>2019/08/20</td>\n",
       "      <td>NaN</td>\n",
       "    </tr>\n",
       "    <tr>\n",
       "      <th>4</th>\n",
       "      <td>Great location, room was large and spacious. P...</td>\n",
       "      <td>2019/08/19</td>\n",
       "      <td>Palm Harbor</td>\n",
       "    </tr>\n",
       "    <tr>\n",
       "      <th>5</th>\n",
       "      <td>All the options for fun were great! Do wish th...</td>\n",
       "      <td>2019/08/19</td>\n",
       "      <td>NaN</td>\n",
       "    </tr>\n",
       "    <tr>\n",
       "      <th>6</th>\n",
       "      <td>Old. Musty. Motel. \\n Bath need an update asap...</td>\n",
       "      <td>2019/08/19</td>\n",
       "      <td>NaN</td>\n",
       "    </tr>\n",
       "    <tr>\n",
       "      <th>7</th>\n",
       "      <td>Loved the layout of the hotel and the relaxing...</td>\n",
       "      <td>2019/08/19</td>\n",
       "      <td>NaN</td>\n",
       "    </tr>\n",
       "    <tr>\n",
       "      <th>8</th>\n",
       "      <td>My wife and I loved everything about it. It’s ...</td>\n",
       "      <td>2019/08/19</td>\n",
       "      <td>NaN</td>\n",
       "    </tr>\n",
       "    <tr>\n",
       "      <th>9</th>\n",
       "      <td>rooms were very small, was told i had a compli...</td>\n",
       "      <td>2019/08/19</td>\n",
       "      <td>NaN</td>\n",
       "    </tr>\n",
       "  </tbody>\n",
       "</table>\n",
       "</div>"
      ],
      "text/plain": [
       "                                              Review        date     Location\n",
       "0  I was very impressed with the resort.\\n Great ...  2019/08/20    Sebastian\n",
       "1  The rooms were nice the outside needs work als...  2019/08/20  Los Angeles\n",
       "2  Great location! I have stayed at this hotel on...  2019/08/20      Georgia\n",
       "3  The hotel was adequate for my stay. The strips...  2019/08/20          NaN\n",
       "4  Great location, room was large and spacious. P...  2019/08/19  Palm Harbor\n",
       "5  All the options for fun were great! Do wish th...  2019/08/19          NaN\n",
       "6  Old. Musty. Motel. \\n Bath need an update asap...  2019/08/19          NaN\n",
       "7  Loved the layout of the hotel and the relaxing...  2019/08/19          NaN\n",
       "8  My wife and I loved everything about it. It’s ...  2019/08/19          NaN\n",
       "9  rooms were very small, was told i had a compli...  2019/08/19          NaN"
      ]
     },
     "execution_count": 182,
     "metadata": {},
     "output_type": "execute_result"
    }
   ],
   "source": [
    "df1=df[df['Review'].isnull()==False]\n",
    "print(df1.shape)\n",
    "df1.head(10)"
   ]
  },
  {
   "cell_type": "code",
   "execution_count": 183,
   "metadata": {},
   "outputs": [
    {
     "name": "stdout",
     "output_type": "stream",
     "text": [
      "(1705, 3)\n"
     ]
    },
    {
     "data": {
      "text/html": [
       "<div>\n",
       "<style scoped>\n",
       "    .dataframe tbody tr th:only-of-type {\n",
       "        vertical-align: middle;\n",
       "    }\n",
       "\n",
       "    .dataframe tbody tr th {\n",
       "        vertical-align: top;\n",
       "    }\n",
       "\n",
       "    .dataframe thead th {\n",
       "        text-align: right;\n",
       "    }\n",
       "</style>\n",
       "<table border=\"1\" class=\"dataframe\">\n",
       "  <thead>\n",
       "    <tr style=\"text-align: right;\">\n",
       "      <th></th>\n",
       "      <th>Review</th>\n",
       "      <th>date</th>\n",
       "      <th>Location</th>\n",
       "    </tr>\n",
       "  </thead>\n",
       "  <tbody>\n",
       "    <tr>\n",
       "      <th>0</th>\n",
       "      <td>I was very impressed with the resort.\\n Great ...</td>\n",
       "      <td>2019/08/20</td>\n",
       "      <td>Sebastian</td>\n",
       "    </tr>\n",
       "    <tr>\n",
       "      <th>1</th>\n",
       "      <td>The rooms were nice the outside needs work als...</td>\n",
       "      <td>2019/08/20</td>\n",
       "      <td>Los Angeles</td>\n",
       "    </tr>\n",
       "    <tr>\n",
       "      <th>2</th>\n",
       "      <td>Great location! I have stayed at this hotel on...</td>\n",
       "      <td>2019/08/20</td>\n",
       "      <td>Georgia</td>\n",
       "    </tr>\n",
       "    <tr>\n",
       "      <th>4</th>\n",
       "      <td>Great location, room was large and spacious. P...</td>\n",
       "      <td>2019/08/19</td>\n",
       "      <td>Palm Harbor</td>\n",
       "    </tr>\n",
       "    <tr>\n",
       "      <th>10</th>\n",
       "      <td>Very clean and friendly and I love the locatio...</td>\n",
       "      <td>2019/08/19</td>\n",
       "      <td>California</td>\n",
       "    </tr>\n",
       "    <tr>\n",
       "      <th>15</th>\n",
       "      <td>Very nice and quiet and clean rooms. \\n We wil...</td>\n",
       "      <td>2019/08/19</td>\n",
       "      <td>Redding</td>\n",
       "    </tr>\n",
       "    <tr>\n",
       "      <th>24</th>\n",
       "      <td>The room did not seem clean. There was some so...</td>\n",
       "      <td>2019/08/18</td>\n",
       "      <td>Jacksonville</td>\n",
       "    </tr>\n",
       "    <tr>\n",
       "      <th>29</th>\n",
       "      <td>En general excelente. Fantástica situación\\n D...</td>\n",
       "      <td>2019/08/17</td>\n",
       "      <td>España</td>\n",
       "    </tr>\n",
       "    <tr>\n",
       "      <th>31</th>\n",
       "      <td>Les chambres familiales sont pratiques (nous é...</td>\n",
       "      <td>2019/08/17</td>\n",
       "      <td>Montréal</td>\n",
       "    </tr>\n",
       "    <tr>\n",
       "      <th>38</th>\n",
       "      <td>Enjoyed our stay! Staff was welcoming and frie...</td>\n",
       "      <td>2019/08/16</td>\n",
       "      <td>La quinta</td>\n",
       "    </tr>\n",
       "  </tbody>\n",
       "</table>\n",
       "</div>"
      ],
      "text/plain": [
       "                                               Review        date  \\\n",
       "0   I was very impressed with the resort.\\n Great ...  2019/08/20   \n",
       "1   The rooms were nice the outside needs work als...  2019/08/20   \n",
       "2   Great location! I have stayed at this hotel on...  2019/08/20   \n",
       "4   Great location, room was large and spacious. P...  2019/08/19   \n",
       "10  Very clean and friendly and I love the locatio...  2019/08/19   \n",
       "15  Very nice and quiet and clean rooms. \\n We wil...  2019/08/19   \n",
       "24  The room did not seem clean. There was some so...  2019/08/18   \n",
       "29  En general excelente. Fantástica situación\\n D...  2019/08/17   \n",
       "31  Les chambres familiales sont pratiques (nous é...  2019/08/17   \n",
       "38  Enjoyed our stay! Staff was welcoming and frie...  2019/08/16   \n",
       "\n",
       "        Location  \n",
       "0      Sebastian  \n",
       "1    Los Angeles  \n",
       "2        Georgia  \n",
       "4    Palm Harbor  \n",
       "10    California  \n",
       "15       Redding  \n",
       "24  Jacksonville  \n",
       "29        España  \n",
       "31      Montréal  \n",
       "38     La quinta  "
      ]
     },
     "execution_count": 183,
     "metadata": {},
     "output_type": "execute_result"
    }
   ],
   "source": [
    "df2=df1[df1['Location'].isnull()==False]\n",
    "print(df2.shape)\n",
    "df2.head(10)"
   ]
  },
  {
   "cell_type": "code",
   "execution_count": 184,
   "metadata": {},
   "outputs": [
    {
     "name": "stdout",
     "output_type": "stream",
     "text": [
      "United States of America    116\n",
      "New York                     34\n",
      "San Jose                     19\n",
      "California                   19\n",
      "Florida                      16\n",
      "Canada                       16\n",
      "United Kingdom               14\n",
      "New York, NY                 13\n",
      "Seattle                      12\n",
      "Orlando                      12\n",
      "Name: Location, dtype: int64\n",
      "Oceanside, ca                 1\n",
      "Miami Beach, Florida          1\n",
      "Honeoye Falls NY              1\n",
      "Martinique                    1\n",
      "Howard Beach                  1\n",
      "                           ... \n",
      "Florida                      16\n",
      "California                   19\n",
      "San Jose                     19\n",
      "New York                     34\n",
      "United States of America    116\n",
      "Name: Location, Length: 1078, dtype: int64\n",
      "<built-in method count of list object at 0x000002A11D6CE6C0>\n"
     ]
    },
    {
     "data": {
      "text/plain": [
       "(1078,)"
      ]
     },
     "execution_count": 184,
     "metadata": {},
     "output_type": "execute_result"
    }
   ],
   "source": [
    "loc=df2['Location'].value_counts()\n",
    "locn=loc\n",
    "loc=loc[0:10]\n",
    "print(locn[0:10])\n",
    "print(locn[::-1])\n",
    "print(list(locn.keys()).count)\n",
    "locn.shape"
   ]
  },
  {
   "cell_type": "code",
   "execution_count": 185,
   "metadata": {},
   "outputs": [
    {
     "data": {
      "text/plain": [
       "dict"
      ]
     },
     "execution_count": 185,
     "metadata": {},
     "output_type": "execute_result"
    }
   ],
   "source": [
    "loc1=loc.to_dict()\n",
    "type(loc1)\n"
   ]
  },
  {
   "cell_type": "code",
   "execution_count": 186,
   "metadata": {},
   "outputs": [
    {
     "data": {
      "text/plain": [
       "1711"
      ]
     },
     "execution_count": 186,
     "metadata": {},
     "output_type": "execute_result"
    }
   ],
   "source": [
    "df['Location'].count()"
   ]
  },
  {
   "cell_type": "code",
   "execution_count": 187,
   "metadata": {},
   "outputs": [
    {
     "data": {
      "image/png": "[encoded data removed]",
      "text/plain": [
       "<Figure size 1080x360 with 1 Axes>"
      ]
     },
     "metadata": {
      "needs_background": "light"
     },
     "output_type": "display_data"
    }
   ],
   "source": [
    "plt.figure(figsize=(15,5))\n",
    "plt.bar(loc1.keys(),loc1.values())\n",
    "plt.title(\"this graph shows the top 10 review of country\")\n",
    "plt.show()"
   ]
  },
  {
   "cell_type": "code",
   "execution_count": 188,
   "metadata": {},
   "outputs": [
    {
     "data": {
      "text/plain": [
       "1705"
      ]
     },
     "execution_count": 188,
     "metadata": {},
     "output_type": "execute_result"
    }
   ],
   "source": [
    "date=df2['date']\n",
    "date_dic=date.to_dict()\n",
    "date_values=date_dic.values()\n",
    "date_list=list(date_values)\n",
    "len(date_list)"
   ]
  },
  {
   "cell_type": "code",
   "execution_count": 189,
   "metadata": {},
   "outputs": [
    {
     "name": "stdout",
     "output_type": "stream",
     "text": [
      "0 979 726 0 0\n"
     ]
    },
    {
     "data": {
      "text/plain": [
       "1705"
      ]
     },
     "execution_count": 189,
     "metadata": {},
     "output_type": "execute_result"
    }
   ],
   "source": [
    "v20=0\n",
    "v19=0\n",
    "v18=0\n",
    "v17=0\n",
    "velse=0\n",
    "for v in date_list:\n",
    "    if '2020'in str(v):\n",
    "        v20+=1\n",
    "    elif '2019'in str(v):\n",
    "        v19+=1\n",
    "    elif '2018'in str(v):\n",
    "        v18+=1\n",
    "    elif '2017'in str(v):\n",
    "        v17+=1\n",
    "    else:\n",
    "        velse=1\n",
    "print(v20,v19, v18, v17, velse)\n",
    "v19+v18"
   ]
  },
  {
   "cell_type": "code",
   "execution_count": 190,
   "metadata": {},
   "outputs": [],
   "source": [
    "#this is data for those whose review is genuine(that is not NUll value) and review contains a name of country.\n",
    "#from the above inference we get to know all the reviews of year 2019 and 2018.\n",
    "#in 2019 total review =979  and in 2018 total review =726  and total review data is =1705"
   ]
  },
  {
   "cell_type": "code",
   "execution_count": 191,
   "metadata": {},
   "outputs": [
    {
     "data": {
      "text/plain": [
       "6448"
      ]
     },
     "execution_count": 191,
     "metadata": {},
     "output_type": "execute_result"
    }
   ],
   "source": [
    "date=df['date']\n",
    "date_dic=date.to_dict()\n",
    "date_values=date_dic.values()\n",
    "date_list=list(date_values)\n",
    "len(date_list)"
   ]
  },
  {
   "cell_type": "code",
   "execution_count": 192,
   "metadata": {},
   "outputs": [
    {
     "data": {
      "text/plain": [
       "6448"
      ]
     },
     "execution_count": 192,
     "metadata": {},
     "output_type": "execute_result"
    }
   ],
   "source": [
    "v20=0\n",
    "v19=0\n",
    "v18=0\n",
    "v17=0\n",
    "velse=0\n",
    "for v in date_list:\n",
    "    if '2020'in str(v):\n",
    "        v20+=1\n",
    "    elif '2019'in str(v):\n",
    "        v19+=1\n",
    "    elif '2018'in str(v):\n",
    "        v18+=1\n",
    "    elif '2017'in str(v):\n",
    "        v17+=1\n",
    "    else:\n",
    "        velse=1\n",
    "v19+v18"
   ]
  },
  {
   "cell_type": "code",
   "execution_count": 193,
   "metadata": {},
   "outputs": [],
   "source": [
    "#from the above inference we get to know all the reviews of year 2019 and 2018.\n",
    "#in 2019 total review =3856 and in 2018 total review =2592 and total review data is =6448"
   ]
  },
  {
   "cell_type": "code",
   "execution_count": 194,
   "metadata": {},
   "outputs": [
    {
     "data": {
      "text/plain": [
       "Jun 2019      145\n",
       "May 2019      121\n",
       "Jul 2019       92\n",
       "2018/12/01     66\n",
       "Oct 2018       58\n",
       "             ... \n",
       "2019/06/14      3\n",
       "2019/06/08      2\n",
       "2019/05/31      2\n",
       "Dec 2018        2\n",
       "2019/06/06      2\n",
       "Name: date, Length: 403, dtype: int64"
      ]
     },
     "execution_count": 194,
     "metadata": {},
     "output_type": "execute_result"
    }
   ],
   "source": [
    "df['date'].value_counts()"
   ]
  },
  {
   "cell_type": "code",
   "execution_count": null,
   "metadata": {},
   "outputs": [],
   "source": []
  },
  {
   "cell_type": "code",
   "execution_count": 195,
   "metadata": {},
   "outputs": [
    {
     "data": {
      "text/plain": [
       "False    6448\n",
       "Name: date, dtype: int64"
      ]
     },
     "execution_count": 195,
     "metadata": {},
     "output_type": "execute_result"
    }
   ],
   "source": [
    "df['date'].isnull().value_counts()"
   ]
  },
  {
   "cell_type": "code",
   "execution_count": 196,
   "metadata": {},
   "outputs": [
    {
     "data": {
      "text/plain": [
       "(4688, 3)"
      ]
     },
     "execution_count": 196,
     "metadata": {},
     "output_type": "execute_result"
    }
   ],
   "source": [
    "df2=df1[df1['Location'].isna()==True]\n",
    "df2.shape"
   ]
  },
  {
   "cell_type": "code",
   "execution_count": 197,
   "metadata": {},
   "outputs": [
    {
     "data": {
      "text/plain": [
       "<bound method IndexOpsMixin.value_counts of 0                      Sebastian\n",
       "1                    Los Angeles\n",
       "2                        Georgia\n",
       "3                            NaN\n",
       "4                    Palm Harbor\n",
       "                  ...           \n",
       "6443    United States of America\n",
       "6444    United States of America\n",
       "6445    United States of America\n",
       "6446    United States of America\n",
       "6447    United States of America\n",
       "Name: Location, Length: 6448, dtype: object>"
      ]
     },
     "execution_count": 197,
     "metadata": {},
     "output_type": "execute_result"
    }
   ],
   "source": [
    "df['Location'].value_counts"
   ]
  },
  {
   "cell_type": "code",
   "execution_count": 198,
   "metadata": {},
   "outputs": [
    {
     "data": {
      "text/plain": [
       "<bound method IndexOpsMixin.value_counts of 3       NaN\n",
       "5       NaN\n",
       "6       NaN\n",
       "7       NaN\n",
       "8       NaN\n",
       "       ... \n",
       "6262    NaN\n",
       "6263    NaN\n",
       "6264    NaN\n",
       "6265    NaN\n",
       "6266    NaN\n",
       "Name: Location, Length: 4688, dtype: object>"
      ]
     },
     "execution_count": 198,
     "metadata": {},
     "output_type": "execute_result"
    }
   ],
   "source": [
    "df2['Location'].value_counts"
   ]
  },
  {
   "cell_type": "code",
   "execution_count": 199,
   "metadata": {},
   "outputs": [
    {
     "data": {
      "text/plain": [
       "False    6393\n",
       "True       55\n",
       "Name: Review, dtype: int64"
      ]
     },
     "execution_count": 199,
     "metadata": {},
     "output_type": "execute_result"
    }
   ],
   "source": [
    "df['Review'].isnull().value_counts()"
   ]
  },
  {
   "cell_type": "code",
   "execution_count": 200,
   "metadata": {},
   "outputs": [
    {
     "data": {
      "text/plain": [
       "0       I was very impressed with the resort.\\n Great ...\n",
       "1       The rooms were nice the outside needs work als...\n",
       "2       Great location! I have stayed at this hotel on...\n",
       "3       The hotel was adequate for my stay. The strips...\n",
       "4       Great location, room was large and spacious. P...\n",
       "                              ...                        \n",
       "6443    ·the staff were all so friendly. frank, the ch...\n",
       "6444           ·the internet barely worked or didn't work\n",
       "6445    ·the location was great.\\n \\n \\n \\n \\n ·the be...\n",
       "6446    ·we were early for check in and the staff was ...\n",
       "6447    ·staff, free coffee, location and activities.\\...\n",
       "Name: Review, Length: 6448, dtype: object"
      ]
     },
     "execution_count": 200,
     "metadata": {},
     "output_type": "execute_result"
    }
   ],
   "source": [
    "df_Review=df['Review']\n",
    "df_Review"
   ]
  },
  {
   "cell_type": "code",
   "execution_count": 201,
   "metadata": {},
   "outputs": [
    {
     "data": {
      "text/plain": [
       "False    3633\n",
       "True     2760\n",
       "Name: Review, dtype: int64"
      ]
     },
     "execution_count": 201,
     "metadata": {},
     "output_type": "execute_result"
    }
   ],
   "source": [
    "df_Review.str.contains(\"room\").value_counts()"
   ]
  },
  {
   "cell_type": "code",
   "execution_count": null,
   "metadata": {},
   "outputs": [],
   "source": []
  },
  {
   "cell_type": "code",
   "execution_count": null,
   "metadata": {},
   "outputs": [],
   "source": []
  },
  {
   "cell_type": "code",
   "execution_count": null,
   "metadata": {},
   "outputs": [],
   "source": []
  },
  {
   "cell_type": "code",
   "execution_count": null,
   "metadata": {},
   "outputs": [],
   "source": []
  },
  {
   "cell_type": "code",
   "execution_count": null,
   "metadata": {},
   "outputs": [],
   "source": []
  }
 ],
 "metadata": {
  "kernelspec": {
   "display_name": "Python 3",
   "language": "python",
   "name": "python3"
  },
  "language_info": {
   "codemirror_mode": {
    "name": "ipython",
    "version": 3
   },
   "file_extension": ".py",
   "mimetype": "text/x-python",
   "name": "python",
   "nbconvert_exporter": "python",
   "pygments_lexer": "ipython3",
   "version": "3.8.5"
  }
 },
 "nbformat": 4,
 "nbformat_minor": 4
}
